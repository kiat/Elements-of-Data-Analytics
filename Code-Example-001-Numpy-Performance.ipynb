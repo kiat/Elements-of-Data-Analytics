{
 "cells": [
  {
   "cell_type": "code",
   "execution_count": 1,
   "id": "1766e5cf-7b23-4511-ad75-4929c72dee3b",
   "metadata": {},
   "outputs": [],
   "source": [
    "import numpy as np"
   ]
  },
  {
   "cell_type": "code",
   "execution_count": 3,
   "id": "33598743-3a56-4b5b-84b2-993359772f8f",
   "metadata": {},
   "outputs": [
    {
     "data": {
      "text/plain": [
       "array([0.14329917, 0.19677532, 0.33265724, ..., 0.71400821, 0.79567698,\n",
       "       0.93081894])"
      ]
     },
     "execution_count": 3,
     "metadata": {},
     "output_type": "execute_result"
    }
   ],
   "source": [
    "my_vector1 = np.random.uniform(low=0, high=1, size=10000)\n",
    "my_vector1"
   ]
  },
  {
   "cell_type": "code",
   "execution_count": 4,
   "id": "12e93794-4a7f-44a1-b9c2-45199ac6321d",
   "metadata": {},
   "outputs": [
    {
     "data": {
      "text/plain": [
       "array([0.08678753, 0.04533051, 0.60834509, ..., 0.73363492, 0.66232003,\n",
       "       0.56627168])"
      ]
     },
     "execution_count": 4,
     "metadata": {},
     "output_type": "execute_result"
    }
   ],
   "source": [
    "my_vector2 = np.random.uniform(low=0, high=1, size=10000)\n",
    "my_vector2"
   ]
  },
  {
   "cell_type": "markdown",
   "id": "e531fd23-5a75-4271-b8c0-ef88e74997d3",
   "metadata": {},
   "source": [
    "my_vector3= my_vector1*my_vector2\n",
    "my_vector3"
   ]
  },
  {
   "cell_type": "markdown",
   "id": "11068ec5-10dd-4522-96ce-049a3816f97d",
   "metadata": {},
   "source": [
    "A Python script that compares vector multiplication using both regular Python lists and NumPy arrays, with timing measurements."
   ]
  },
  {
   "cell_type": "code",
   "execution_count": 12,
   "id": "69006fa3-6d87-45f3-9178-be46e8455420",
   "metadata": {},
   "outputs": [
    {
     "name": "stdout",
     "output_type": "stream",
     "text": [
      "Vector Multiplication Performance Comparison\n",
      "--------------------------------------------------\n",
      "Size       Python (ms)     NumPy (ms)      Speedup   \n",
      "--------------------------------------------------\n",
      "100        0.008           0.001           7.96      x\n",
      "1000       0.096           0.016           6.02      x\n",
      "10000      0.563           0.005           115.58    x\n",
      "100000     4.594           0.048           96.33     x\n"
     ]
    }
   ],
   "source": [
    "import numpy as np\n",
    "import time\n",
    "from typing import List\n",
    "\n",
    "def python_vector_mult(v1: List[float], v2: List[float]) -> List[float]:\n",
    "    \"\"\"\n",
    "    Multiply two vectors using regular Python lists.\n",
    "    \"\"\"\n",
    "    return [a * b for a, b in zip(v1, v2)]\n",
    "\n",
    "def compare_vector_multiplication(size: int, num_runs: int = 100) -> tuple:\n",
    "    \"\"\"\n",
    "    Compare the performance of vector multiplication using Python lists vs NumPy.\n",
    "    \n",
    "    Args:\n",
    "        size: Length of vectors to multiply\n",
    "        num_runs: Number of times to run each multiplication for timing\n",
    "    \n",
    "    Returns:\n",
    "        tuple: (python_time, numpy_time) in seconds\n",
    "    \"\"\"\n",
    "    # Create random vectors\n",
    "    v1 = [np.random.random() for _ in range(size)]\n",
    "    v2 = [np.random.random() for _ in range(size)]\n",
    "    \n",
    "    # Convert to numpy arrays\n",
    "    np_v1 = np.array(v1)\n",
    "    np_v2 = np.array(v2)\n",
    "    \n",
    "    # Time Python list multiplication\n",
    "    py_start = time.perf_counter()\n",
    "    for _ in range(num_runs):\n",
    "        python_result = python_vector_mult(v1, v2)\n",
    "    py_time = (time.perf_counter() - py_start) / num_runs\n",
    "    \n",
    "    # Time NumPy multiplication\n",
    "    np_start = time.perf_counter()\n",
    "    for _ in range(num_runs):\n",
    "        numpy_result = np_v1 * np_v2\n",
    "    np_time = (time.perf_counter() - np_start) / num_runs\n",
    "    \n",
    "    return py_time, np_time\n",
    "\n",
    "# Test with different vector sizes\n",
    "sizes = [100, 1000, 10000, 100000]\n",
    "print(\"Vector Multiplication Performance Comparison\")\n",
    "print(\"-\" * 50)\n",
    "print(f\"{'Size':<10} {'Python (ms)':<15} {'NumPy (ms)':<15} {'Speedup':<10}\")\n",
    "print(\"-\" * 50)\n",
    "\n",
    "for size in sizes:\n",
    "    py_time, np_time = compare_vector_multiplication(size)\n",
    "    # Convert to milliseconds for readability\n",
    "    py_ms = py_time * 1000\n",
    "    np_ms = np_time * 1000\n",
    "    speedup = py_time / np_time\n",
    "    \n",
    "    print(f\"{size:<10} {py_ms:<15.3f} {np_ms:<15.3f} {speedup:<10.2f}x\")\n",
    "\n"
   ]
  },
  {
   "cell_type": "markdown",
   "id": "f396b741-1d22-4526-93b7-a37d505d3182",
   "metadata": {},
   "source": [
    "\n",
    "This script:\n",
    "1. Implements vector multiplication using both pure Python and NumPy\n",
    "2. Compares performance across different vector sizes (100 to 100,000 elements)\n",
    "3. Runs multiple iterations to get more accurate timing\n",
    "4. Shows results in milliseconds and calculates the speedup factor\n",
    "\n",
    "You can run this code directly. You'll likely see that:\n",
    "1. NumPy is significantly faster, especially for larger vectors\n",
    "2. The speedup becomes more pronounced as vector size increases\n",
    "3. For very small vectors, the difference might be less noticeable due to overhead\n",
    "\n",
    "Would you like me to modify the comparison or add any additional features to the benchmark?"
   ]
  },
  {
   "cell_type": "code",
   "execution_count": null,
   "id": "a93127f9-76a0-48fe-bc2c-24883b69a8b0",
   "metadata": {},
   "outputs": [],
   "source": []
  }
 ],
 "metadata": {
  "kernelspec": {
   "display_name": "Python 3 (ipykernel)",
   "language": "python",
   "name": "python3"
  },
  "language_info": {
   "codemirror_mode": {
    "name": "ipython",
    "version": 3
   },
   "file_extension": ".py",
   "mimetype": "text/x-python",
   "name": "python",
   "nbconvert_exporter": "python",
   "pygments_lexer": "ipython3",
   "version": "3.11.7"
  }
 },
 "nbformat": 4,
 "nbformat_minor": 5
}
