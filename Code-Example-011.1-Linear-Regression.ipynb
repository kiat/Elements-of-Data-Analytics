{
  "cells": [
    {
      "cell_type": "markdown",
      "id": "94db22ab",
      "metadata": {
        "id": "94db22ab"
      },
      "source": [
        "#  Ordindary least squares regression (linear regression), manual and API approaches."
      ]
    },
    {
      "cell_type": "markdown",
      "id": "9e4d8ee2",
      "metadata": {
        "id": "9e4d8ee2"
      },
      "source": [
        "##### This tutorial will cover some first examples in ordinary least squares regression. First we will solve an example using matrices and matrix calculations. Having the knowledge to apply the scientific methods of mathematics to real world scenarious involing complex systems, computationally is a very powerful tool. API's are useful, but can limit our understanding of the underlying mechanics of models."
      ]
    },
    {
      "cell_type": "markdown",
      "id": "3fa5bf2d",
      "metadata": {
        "id": "3fa5bf2d"
      },
      "source": [
        "##### When solving inconsistent systems of the form $A\\textbf{x}=\\textbf{b}$ we need clever ways to approximate $\\textbf{b}$ by finding an $\\textbf{x}$ that makes $A\\textbf{x}$ as close to $\\textbf{b}$ as possible. Where the distance between $\\textbf{b}$ and $A\\textbf{x}$ is given by $ \\| \\textbf{b} - A\\textbf{x}\\|$.\n",
        "#####   The $\\textbf{general least-squares problem}$ is to find an $\\textbf{x}$ that makes  $ \\| \\textbf{b} - A\\textbf{x}\\|$ as small as possible. The adjective \"least-squares\" arises from the fact that  $ \\| \\textbf{b} - A\\textbf{x}\\|$ is the square root of a sum of squares.  \n",
        "\n",
        "##### By the orthogonal decomposition theorem, $\\text{b}- A\\hat{\\textbf{x}}$ is orthogonal to each column of $A$. Such an $\\hat{\\textbf{x}}$ in $\\mathbb{R}^n$ is a list of weights that will build $\\hat{\\textbf{b}}$ out of the columns of $A$.\n",
        "\n",
        "##### If $\\textbf{a}_j$ is any column of $A$, then $\\textbf{a}_j \\cdot (\\text{b}- A\\hat{\\textbf{x}})=\\textbf{0}$ and $\\textbf{a}_j^T(\\text{b}- A\\hat{\\textbf{x}})=\\textbf{0}$. Since each $\\textbf{a}_j^T$ is a row of $A^T$,\n",
        "\n",
        "##### $$A^T (\\text{b}- A\\hat{\\textbf{x}})=\\textbf{0}$$\n",
        "\n",
        "##### Thus\n",
        "\n",
        "##### $$A^T\\textbf{b}-A^TA\\hat{\\textbf{x}}=\\textbf{0}$$\n",
        "\n",
        "##### $$A^T A\\hat{\\textbf{x}}=A^T \\textbf{b}$$\n",
        "\n",
        "##### The set of least-squares solutions of $A\\textbf{x}=\\textbf{b}$  conincides with the nonempy set of solutions of the normal equations $A^T A\\hat{\\textbf{x}}=A^T \\textbf{b}$\n",
        "\n",
        "##### For easy application of the discussion to real problems, we choose the most commonly used notation in the statistical analysis of scientific and engineering data. Instead of $A\\textbf{x}=\\textbf{b}$, we write $X \\beta = \\textbf{y}$."
      ]
    },
    {
      "cell_type": "markdown",
      "id": "af213645",
      "metadata": {
        "id": "af213645"
      },
      "source": [
        "### Example 1.\n",
        "##### Find the equation $y=\\beta_0 + \\beta_1x$ of the least-squares line that best fits the data points $(2,1), (5,2), (7,3), (8,3)$.\n",
        "\n",
        "$$\n",
        "X = \\begin{bmatrix}\n",
        "1 & 2 \\\\\n",
        "1 & 5 \\\\\n",
        "1 & 7 \\\\\n",
        "1 & 8\n",
        "\\end{bmatrix},\n",
        "\\quad\n",
        "\\mathbf{y} = \\begin{bmatrix}\n",
        "1 \\\\\n",
        "2 \\\\\n",
        "3 \\\\\n",
        "3\n",
        "\\end{bmatrix}\n",
        "$$"
      ]
    },
    {
      "cell_type": "code",
      "execution_count": 1,
      "id": "740b7f50",
      "metadata": {
        "colab": {
          "base_uri": "https://localhost:8080/",
          "height": 449
        },
        "id": "740b7f50",
        "outputId": "d864ab96-d4ce-4f75-e1a7-554329a0a68f"
      },
      "outputs": [
        {
          "output_type": "display_data",
          "data": {
            "text/plain": [
              "<Figure size 640x480 with 1 Axes>"
            ],
            "image/png": "[encoded data removed]"
          },
          "metadata": {}
        }
      ],
      "source": [
        "import numpy as np\n",
        "import matplotlib.pyplot as plt\n",
        "\n",
        "# I'm using numpy matricies here because they allow for elementary matrix\n",
        "# calculations, where numpy arrays don't always.\n",
        "\n",
        "X = np.matrix([[1, 2],\n",
        "               [1, 5],\n",
        "               [1, 7],\n",
        "               [1, 8]])\n",
        "\n",
        "\n",
        "y = np.matrix([[1],\n",
        "               [2],\n",
        "               [3],\n",
        "               [3]])\n",
        "\n",
        "\n",
        "plt.scatter( np.array(X[:, 1].flatten()), np.array(y.flatten()) )\n",
        "plt.xlabel('x')\n",
        "plt.ylabel('y')\n",
        "plt.show()\n"
      ]
    },
    {
      "cell_type": "markdown",
      "id": "45d20267",
      "metadata": {
        "id": "45d20267"
      },
      "source": [
        "$$X^TX\\beta = X^T \\textbf{y}$$\n",
        "\n",
        "$$X^TX= \\left[\\begin{array}{cccc}\n",
        " 1 & 1 & 1 & 1  \\\\\n",
        "2 & 5 & 7 & 7\n",
        "\\end{array}\\right]\\left[\\begin{array}{cc}\n",
        " 1 & 2  \\\\\n",
        " 1 & 5 \\\\\n",
        " 1 & 7 \\\\\n",
        " 1 & 8\n",
        "\\end{array}\\right]=\\left[\\begin{array}{cc}\n",
        " 4 & 22  \\\\\n",
        "22 & 142\n",
        "\\end{array}\\right]$$"
      ]
    },
    {
      "cell_type": "code",
      "execution_count": 2,
      "id": "5ad0ddc9",
      "metadata": {
        "colab": {
          "base_uri": "https://localhost:8080/"
        },
        "id": "5ad0ddc9",
        "outputId": "1d0674a0-5771-4a3e-e5e9-cfd631c8d536"
      },
      "outputs": [
        {
          "output_type": "stream",
          "name": "stdout",
          "text": [
            "[[  4  22]\n",
            " [ 22 142]]\n"
          ]
        }
      ],
      "source": [
        "XT_X = X.T * X\n",
        "print(XT_X)\n"
      ]
    },
    {
      "cell_type": "markdown",
      "id": "4b10d147",
      "metadata": {
        "id": "4b10d147"
      },
      "source": [
        "$$X^T\\textbf{y}= \\left[\\begin{array}{cccc}\n",
        " 1 & 1 & 1 & 1  \\\\\n",
        "2 & 5 & 7 & 7\n",
        "\\end{array}\\right]\n",
        "\\left[\\begin{array}{cc}\n",
        " 1   \\\\\n",
        " 2 \\\\\n",
        " 3  \\\\\n",
        " 3  \n",
        "\\end{array}\\right]\n",
        "=\\left[\\begin{array}{c}\n",
        " 9  \\\\\n",
        "57\n",
        "\\end{array}\\right]$$"
      ]
    },
    {
      "cell_type": "code",
      "execution_count": 3,
      "id": "fdad9d2c",
      "metadata": {
        "colab": {
          "base_uri": "https://localhost:8080/"
        },
        "id": "fdad9d2c",
        "outputId": "8aa45e9d-507f-487d-9c0b-7b7b8e94044f"
      },
      "outputs": [
        {
          "output_type": "stream",
          "name": "stdout",
          "text": [
            "[[ 9]\n",
            " [57]]\n"
          ]
        }
      ],
      "source": [
        "XT_y = X.T * y\n",
        "print(XT_y)"
      ]
    },
    {
      "cell_type": "markdown",
      "id": "7e222668",
      "metadata": {
        "id": "7e222668"
      },
      "source": [
        "##### The normal equations are\n",
        "\n",
        "$$\\left[\\begin{array}{cc}\n",
        " 4 & 22  \\\\\n",
        "22 & 142\n",
        "\\end{array}\\right]\\left[\\begin{array}{c}\n",
        " \\beta_0  \\\\\n",
        "\\beta_1\n",
        "\\end{array}\\right] =\\left[\\begin{array}{c}\n",
        " 9  \\\\\n",
        "57\n",
        "\\end{array}\\right] $$\n",
        "\n",
        "##### Hence\n",
        "\n",
        "$$\n",
        "\\left[\\begin{array}{c}\n",
        " \\beta_0  \\\\\n",
        "\\beta_1\n",
        "\\end{array}\\right] = \\left[\\begin{array}{cc}\n",
        " 4 & 22  \\\\\n",
        "22 & 142\n",
        "\\end{array}\\right]^{-1}\\left[\\begin{array}{c}\n",
        " 9  \\\\\n",
        "57\n",
        "\\end{array}\\right]= \\left[\\begin{array}{c}\n",
        " 2/7  \\\\\n",
        "5/14\n",
        "\\end{array}\\right]$$"
      ]
    },
    {
      "cell_type": "code",
      "execution_count": 4,
      "id": "98d24a6d",
      "metadata": {
        "colab": {
          "base_uri": "https://localhost:8080/"
        },
        "id": "98d24a6d",
        "outputId": "81543940-1b8c-41ad-fd2c-9c931bc6f51d"
      },
      "outputs": [
        {
          "output_type": "stream",
          "name": "stdout",
          "text": [
            "Thus the least-squares line has the equation [0.28571429]+[0.35714286]x\n"
          ]
        }
      ],
      "source": [
        "beta = np.linalg.inv(XT_X) * XT_y\n",
        "beta = np.array(beta)\n",
        "print(f'Thus the least-squares line has the equation {beta[0]}+{beta[1]}x')"
      ]
    },
    {
      "cell_type": "code",
      "execution_count": 5,
      "id": "6aa297d3",
      "metadata": {
        "colab": {
          "base_uri": "https://localhost:8080/",
          "height": 477
        },
        "id": "6aa297d3",
        "outputId": "3ec4a6eb-5c97-49b5-d838-7975c3766443"
      },
      "outputs": [
        {
          "output_type": "display_data",
          "data": {
            "text/plain": [
              "<Figure size 640x480 with 1 Axes>"
            ],
            "image/png": "[encoded data removed]"
          },
          "metadata": {}
        }
      ],
      "source": [
        "import matplotlib.pyplot as plt\n",
        "\n",
        "x = np.linspace(0,10,  100)\n",
        "\n",
        "def f(x):\n",
        "    return 2/7 + 5/14 * x\n",
        "\n",
        "plt.scatter( np.array(X[:, 1].flatten()), np.array(y.flatten()) )\n",
        "plt.plot(x, f(x))\n",
        "plt.xlabel('x')\n",
        "plt.ylabel('y')\n",
        "plt.title(r'The least-squares line for $y=\\frac{2}{7}+\\frac{5}{14}x$')\n",
        "plt.show()\n"
      ]
    },
    {
      "cell_type": "markdown",
      "id": "89b4928f",
      "metadata": {
        "id": "89b4928f"
      },
      "source": [
        "### Now we can compare our numerical solution to an API one using sklearn."
      ]
    },
    {
      "cell_type": "markdown",
      "id": "11b922ce",
      "metadata": {
        "id": "11b922ce"
      },
      "source": [
        "##### And we achieve the same answer. The only computation we have to do is take the transpose of $X$ and increase its dimension size to $\\mathbb{R}^2$"
      ]
    },
    {
      "cell_type": "code",
      "execution_count": 6,
      "id": "54b4ac8e",
      "metadata": {
        "colab": {
          "base_uri": "https://localhost:8080/"
        },
        "id": "54b4ac8e",
        "outputId": "137b3348-60e4-47f1-80ce-b55d5b15447b"
      },
      "outputs": [
        {
          "output_type": "stream",
          "name": "stdout",
          "text": [
            "y=[0.35714286]x +  0.2857142857142865\n"
          ]
        }
      ],
      "source": [
        "from sklearn.linear_model import LinearRegression\n",
        "# I'm using numpy arrays because numpy matricies are not supported in the sklearn\n",
        "# library. As a general rule, I like to use numpy matricies to\n",
        "# for manual matrix calculations and arrays for API's like sklearn.\n",
        "X = np.array([2,5,7,8])\n",
        "\n",
        "y = np.array([1,2,3,3,])\n",
        "\n",
        "x_T = np.array((X, )).T\n",
        "\n",
        "reg = LinearRegression().fit(x_T,y)\n",
        "\n",
        "print(f'y={reg.coef_}x +  {reg.intercept_}')\n",
        "\n"
      ]
    },
    {
      "cell_type": "markdown",
      "id": "9bf0b356",
      "metadata": {
        "id": "9bf0b356"
      },
      "source": [
        "##### Authored by Logan Kronfrost\n",
        "\n",
        "##### Textbook reference: Linear algebra and its applications / David C. Lay, University of Maryland, College Park, Steven R. Lay, Lee University, Judi J. McDonald, Washington State University. – Fifth edition."
      ]
    }
  ],
  "metadata": {
    "kernelspec": {
      "display_name": "Python 3",
      "language": "python",
      "name": "python3"
    },
    "language_info": {
      "codemirror_mode": {
        "name": "ipython",
        "version": 3
      },
      "file_extension": ".py",
      "mimetype": "text/x-python",
      "name": "python",
      "nbconvert_exporter": "python",
      "pygments_lexer": "ipython3",
      "version": "3.10.10"
    },
    "colab": {
      "provenance": []
    }
  },
  "nbformat": 4,
  "nbformat_minor": 5
}
